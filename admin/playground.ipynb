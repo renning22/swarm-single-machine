{
 "cells": [
  {
   "cell_type": "code",
   "execution_count": 1,
   "metadata": {},
   "outputs": [
    {
     "data": {
      "text/plain": [
       "'3.8.10 (default, May 19 2021, 18:05:58) \\n[GCC 7.3.0]'"
      ]
     },
     "execution_count": 1,
     "metadata": {},
     "output_type": "execute_result"
    }
   ],
   "source": [
    "import sys\n",
    "import json\n",
    "from fabric import Connection\n",
    "from invoke import Responder, UnexpectedExit\n",
    "\n",
    "sys.version"
   ]
  },
  {
   "cell_type": "code",
   "execution_count": 2,
   "metadata": {},
   "outputs": [
    {
     "name": "stdout",
     "output_type": "stream",
     "text": [
      "swarm-01\n"
     ]
    }
   ],
   "source": [
    "result = Connection('ubuntu@128.1.135.208').run('hostname', hide=False)"
   ]
  },
  {
   "cell_type": "code",
   "execution_count": 3,
   "metadata": {},
   "outputs": [
    {
     "data": {
      "text/plain": [
       "'swarm-01\\n'"
      ]
     },
     "execution_count": 3,
     "metadata": {},
     "output_type": "execute_result"
    }
   ],
   "source": [
    "result.stdout"
   ]
  },
  {
   "cell_type": "code",
   "execution_count": 4,
   "metadata": {},
   "outputs": [],
   "source": [
    "hosts = [\n",
    "    \"118.193.45.223\",\n",
    "    \"128.1.135.208\",\n",
    "    \"103.14.34.147\",\n",
    "    \"23.91.97.32\",\n",
    "    \"152.32.210.117\",\n",
    "    \"23.91.98.101\",\n",
    "    \"152.32.189.174\",\n",
    "    \"36.255.220.243\",\n",
    "    \"152.32.192.130\",\n",
    "    \"101.36.117.63\",\n",
    "    \"101.36.120.12\",\n",
    "    \"101.36.122.83\",\n",
    "    \"152.32.215.147\",\n",
    "    \"152.32.251.236\",\n",
    "    \"152.32.190.173\",\n",
    "    \"23.91.101.163\",\n",
    "    \"118.193.39.223\",\n",
    "    \"165.154.3.36\",\n",
    "    \"45.249.247.180\",\n",
    "    \"152.32.210.173\",\n",
    "    \"23.91.100.167\",\n",
    "    \"45.249.247.46\",\n",
    "    \"128.1.138.92\",\n",
    "]"
   ]
  },
  {
   "cell_type": "code",
   "execution_count": 5,
   "metadata": {},
   "outputs": [
    {
     "data": {
      "text/plain": [
       "['118.193.45.223',\n",
       " '128.1.135.208',\n",
       " '103.14.34.147',\n",
       " '23.91.97.32',\n",
       " '152.32.210.117',\n",
       " '23.91.98.101',\n",
       " '152.32.189.174',\n",
       " '36.255.220.243',\n",
       " '152.32.192.130',\n",
       " '101.36.117.63',\n",
       " '101.36.120.12',\n",
       " '101.36.122.83',\n",
       " '152.32.215.147',\n",
       " '152.32.251.236',\n",
       " '152.32.190.173',\n",
       " '23.91.101.163',\n",
       " '118.193.39.223',\n",
       " '165.154.3.36',\n",
       " '45.249.247.180',\n",
       " '152.32.210.173',\n",
       " '23.91.100.167',\n",
       " '45.249.247.46',\n",
       " '128.1.138.92']"
      ]
     },
     "execution_count": 5,
     "metadata": {},
     "output_type": "execute_result"
    }
   ],
   "source": [
    "hosts"
   ]
  },
  {
   "cell_type": "code",
   "execution_count": 6,
   "metadata": {
    "scrolled": false
   },
   "outputs": [
    {
     "name": "stdout",
     "output_type": "stream",
     "text": [
      "==== 00/23 : 118.193.45.223 ====\n",
      "swarm-00\n",
      "peers = 0\n",
      "==== 01/23 : 128.1.135.208 ====\n",
      "swarm-01\n",
      "peers = 3\n",
      "==== 02/23 : 103.14.34.147 ====\n",
      "swarm-02\n",
      "peers = 0\n",
      "==== 03/23 : 23.91.97.32 ====\n",
      "swarm-03\n",
      "peers = 1\n",
      "==== 04/23 : 152.32.210.117 ====\n",
      "swarm-04\n",
      "peers = 0\n",
      "==== 05/23 : 23.91.98.101 ====\n",
      "swarm-05\n",
      "peers = 26\n",
      "==== 06/23 : 152.32.189.174 ====\n",
      "swarm-06\n",
      "peers = 0\n",
      "==== 07/23 : 36.255.220.243 ====\n",
      "swarm-07\n",
      "peers = 0\n",
      "==== 08/23 : 152.32.192.130 ====\n",
      "swarm-08\n",
      "peers = 2\n",
      "==== 09/23 : 101.36.117.63 ====\n",
      "swarm-09\n",
      "peers = \n",
      "==== 10/23 : 101.36.120.12 ====\n",
      "swarm-10\n",
      "peers = 0\n",
      "==== 11/23 : 101.36.122.83 ====\n",
      "swarm-11\n",
      "peers = 15\n",
      "==== 12/23 : 152.32.215.147 ====\n",
      "swarm-12\n",
      "peers = 0\n",
      "==== 13/23 : 152.32.251.236 ====\n",
      "swarm-13\n",
      "peers = 0\n",
      "==== 14/23 : 152.32.190.173 ====\n",
      "UHost14\n",
      "peers = 23\n",
      "==== 15/23 : 23.91.101.163 ====\n",
      "UHost15\n",
      "peers = 32\n",
      "==== 16/23 : 118.193.39.223 ====\n",
      "UHost16\n",
      "peers = 25\n",
      "==== 17/23 : 165.154.3.36 ====\n",
      "UHost17\n",
      "peers = 16\n",
      "==== 18/23 : 45.249.247.180 ====\n",
      "UHost18\n",
      "peers = 0\n",
      "==== 19/23 : 152.32.210.173 ====\n",
      "UHost19\n",
      "peers = 0\n",
      "==== 20/23 : 23.91.100.167 ====\n",
      "UHost20\n",
      "peers = 0\n",
      "==== 21/23 : 45.249.247.46 ====\n",
      "UHost21\n",
      "peers = 30\n",
      "==== 22/23 : 128.1.138.92 ====\n",
      "UHost22\n",
      "peers = 0\n"
     ]
    }
   ],
   "source": [
    "# Check status\n",
    "\n",
    "for i, host in enumerate(hosts):\n",
    "    print(f'==== {i:02}/{len(hosts):02} : {host} ====')\n",
    "    conn = Connection(f'ubuntu@{host}')\n",
    "    conn.run('hostname')\n",
    "    result = conn.run(\"curl -s http://localhost:1635/peers | jq '.peers | length'\", hide=True)\n",
    "    print(f'peers = {result.stdout.strip()}')"
   ]
  },
  {
   "cell_type": "code",
   "execution_count": null,
   "metadata": {
    "scrolled": true
   },
   "outputs": [],
   "source": [
    "# Check peer balances\n",
    "\n",
    "for i, host in enumerate(hosts):\n",
    "    print(f'==== {i:02}/{len(hosts):02} : {host} ====')\n",
    "    conn = Connection(f'ubuntu@{host}')\n",
    "    conn.run('hostname')\n",
    "    result = conn.run('cd swarm-single-machine && ./balances.sh')\n",
    "    print()"
   ]
  },
  {
   "cell_type": "code",
   "execution_count": 7,
   "metadata": {},
   "outputs": [
    {
     "name": "stdout",
     "output_type": "stream",
     "text": [
      "==== 00/23 : 118.193.45.223 ====\n",
      "swarm-00\n"
     ]
    },
    {
     "name": "stderr",
     "output_type": "stream",
     "text": [
      "Stopping swarm-single-machine_bee-1_1  ... \n",
      "Stopping swarm-single-machine_clef-1_1 ... \n",
      "Stopping swarm-single-machine_bee-1_1  ... done\n",
      "Stopping swarm-single-machine_clef-1_1 ... done\n",
      "Removing swarm-single-machine_bee-1_1  ... \n",
      "Removing swarm-single-machine_clef-1_1 ... \n",
      "Removing swarm-single-machine_clef-1_1 ... done\n",
      "Removing swarm-single-machine_bee-1_1  ... done\n",
      "Removing network swarm-single-machine_default\n"
     ]
    },
    {
     "name": "stdout",
     "output_type": "stream",
     "text": [
      "==== 01/23 : 128.1.135.208 ====\n",
      "swarm-01\n"
     ]
    },
    {
     "name": "stderr",
     "output_type": "stream",
     "text": [
      "Stopping swarm-single-machine_bee-1_1  ... \n",
      "Stopping swarm-single-machine_clef-1_1 ... \n",
      "\u001b[1Bping swarm-single-machine_clef-1_1 ... \u001b[32mdone\u001b[0m\u001b[1A\u001b[2KRemoving swarm-single-machine_bee-1_1  ... \n",
      "Removing swarm-single-machine_clef-1_1 ... \n",
      "\u001b[2Bving swarm-single-machine_bee-1_1  ... \u001b[32mdone\u001b[0m\u001b[2A\u001b[2KRemoving network swarm-single-machine_default\n"
     ]
    },
    {
     "name": "stdout",
     "output_type": "stream",
     "text": [
      "==== 02/23 : 103.14.34.147 ====\n",
      "swarm-02\n"
     ]
    },
    {
     "name": "stderr",
     "output_type": "stream",
     "text": [
      "Stopping swarm-single-machine_bee-1_1  ... \n",
      "Stopping swarm-single-machine_clef-1_1 ... \n",
      "\u001b[1Bping swarm-single-machine_clef-1_1 ... \u001b[32mdone\u001b[0m\u001b[1A\u001b[2KRemoving swarm-single-machine_bee-1_1  ... \n",
      "Removing swarm-single-machine_clef-1_1 ... \n",
      "\u001b[2BRemoving network swarm-single-machine_defaultone\u001b[0m\u001b[2A\u001b[2K\n"
     ]
    },
    {
     "name": "stdout",
     "output_type": "stream",
     "text": [
      "==== 03/23 : 23.91.97.32 ====\n",
      "swarm-03\n"
     ]
    },
    {
     "name": "stderr",
     "output_type": "stream",
     "text": [
      "Stopping swarm-single-machine_bee-1_1  ... \n",
      "Stopping swarm-single-machine_clef-1_1 ... \n",
      "\u001b[1Bping swarm-single-machine_clef-1_1 ... \u001b[32mdone\u001b[0m\u001b[1A\u001b[2KRemoving swarm-single-machine_bee-1_1  ... \n",
      "Removing swarm-single-machine_clef-1_1 ... \n",
      "\u001b[2BRemoving network swarm-single-machine_defaultone\u001b[0m\u001b[2A\u001b[2K\n"
     ]
    },
    {
     "name": "stdout",
     "output_type": "stream",
     "text": [
      "==== 04/23 : 152.32.210.117 ====\n",
      "swarm-04\n"
     ]
    },
    {
     "name": "stderr",
     "output_type": "stream",
     "text": [
      "Stopping swarm-single-machine_bee-1_1  ... \n",
      "Stopping swarm-single-machine_clef-1_1 ... \n",
      "\u001b[1Bping swarm-single-machine_clef-1_1 ... \u001b[32mdone\u001b[0m\u001b[1A\u001b[2KRemoving swarm-single-machine_bee-1_1  ... \n",
      "Removing swarm-single-machine_clef-1_1 ... \n",
      "\u001b[2BRemoving network swarm-single-machine_defaultone\u001b[0m\u001b[2A\u001b[2K\n"
     ]
    },
    {
     "name": "stdout",
     "output_type": "stream",
     "text": [
      "==== 05/23 : 23.91.98.101 ====\n",
      "swarm-05\n"
     ]
    },
    {
     "name": "stderr",
     "output_type": "stream",
     "text": [
      "Stopping swarm-single-machine_bee-1_1  ... \n",
      "Stopping swarm-single-machine_clef-1_1 ... \n",
      "\u001b[1Bping swarm-single-machine_clef-1_1 ... \u001b[32mdone\u001b[0m\u001b[1A\u001b[2KRemoving swarm-single-machine_bee-1_1  ... \n",
      "Removing swarm-single-machine_clef-1_1 ... \n",
      "\u001b[2BRemoving network swarm-single-machine_defaultone\u001b[0m\u001b[2A\u001b[2K\n"
     ]
    },
    {
     "name": "stdout",
     "output_type": "stream",
     "text": [
      "==== 06/23 : 152.32.189.174 ====\n",
      "swarm-06\n"
     ]
    },
    {
     "name": "stderr",
     "output_type": "stream",
     "text": [
      "Stopping swarm-single-machine_bee-1_1  ... \n",
      "Stopping swarm-single-machine_clef-1_1 ... \n",
      "\u001b[1Bping swarm-single-machine_clef-1_1 ... \u001b[32mdone\u001b[0m\u001b[1A\u001b[2KRemoving swarm-single-machine_bee-1_1  ... \n",
      "Removing swarm-single-machine_clef-1_1 ... \n",
      "\u001b[2BRemoving network swarm-single-machine_defaultone\u001b[0m\u001b[2A\u001b[2K\n"
     ]
    },
    {
     "name": "stdout",
     "output_type": "stream",
     "text": [
      "==== 07/23 : 36.255.220.243 ====\n",
      "swarm-07\n"
     ]
    },
    {
     "name": "stderr",
     "output_type": "stream",
     "text": [
      "Stopping swarm-single-machine_bee-1_1  ... \n",
      "Stopping swarm-single-machine_clef-1_1 ... \n",
      "\u001b[1Bping swarm-single-machine_clef-1_1 ... \u001b[32mdone\u001b[0m\u001b[1A\u001b[2KRemoving swarm-single-machine_bee-1_1  ... \n",
      "Removing swarm-single-machine_clef-1_1 ... \n",
      "\u001b[2BRemoving network swarm-single-machine_defaultone\u001b[0m\u001b[2A\u001b[2K\n"
     ]
    },
    {
     "name": "stdout",
     "output_type": "stream",
     "text": [
      "==== 08/23 : 152.32.192.130 ====\n",
      "swarm-08\n"
     ]
    },
    {
     "name": "stderr",
     "output_type": "stream",
     "text": [
      "Stopping swarm-single-machine_bee-1_1  ... \n",
      "Stopping swarm-single-machine_clef-1_1 ... \n",
      "\u001b[1Bping swarm-single-machine_clef-1_1 ... \u001b[32mdone\u001b[0m\u001b[1A\u001b[2KRemoving swarm-single-machine_bee-1_1  ... \n",
      "Removing swarm-single-machine_clef-1_1 ... \n",
      "\u001b[2BRemoving network swarm-single-machine_defaultone\u001b[0m\u001b[2A\u001b[2K\n"
     ]
    },
    {
     "name": "stdout",
     "output_type": "stream",
     "text": [
      "==== 09/23 : 101.36.117.63 ====\n",
      "swarm-09\n"
     ]
    },
    {
     "name": "stderr",
     "output_type": "stream",
     "text": [
      "Stopping swarm-single-machine_bee-1_1  ... \n",
      "Stopping swarm-single-machine_clef-1_1 ... \n",
      "\u001b[1Bping swarm-single-machine_clef-1_1 ... \u001b[32mdone\u001b[0m\u001b[1A\u001b[2KRemoving swarm-single-machine_bee-1_1  ... \n",
      "Removing swarm-single-machine_clef-1_1 ... \n",
      "\u001b[2Bving swarm-single-machine_bee-1_1  ... \u001b[32mdone\u001b[0m\u001b[2A\u001b[2KRemoving network swarm-single-machine_default\n"
     ]
    },
    {
     "name": "stdout",
     "output_type": "stream",
     "text": [
      "==== 10/23 : 101.36.120.12 ====\n",
      "swarm-10\n"
     ]
    },
    {
     "name": "stderr",
     "output_type": "stream",
     "text": [
      "Stopping swarm-single-machine_bee-1_1  ... \n",
      "Stopping swarm-single-machine_clef-1_1 ... \n",
      "\u001b[1Bping swarm-single-machine_clef-1_1 ... \u001b[32mdone\u001b[0m\u001b[1A\u001b[2KRemoving swarm-single-machine_bee-1_1  ... \n",
      "Removing swarm-single-machine_clef-1_1 ... \n",
      "\u001b[2BRemoving network swarm-single-machine_defaultone\u001b[0m\u001b[2A\u001b[2K\n"
     ]
    },
    {
     "name": "stdout",
     "output_type": "stream",
     "text": [
      "==== 11/23 : 101.36.122.83 ====\n",
      "swarm-11\n"
     ]
    },
    {
     "name": "stderr",
     "output_type": "stream",
     "text": [
      "Stopping swarm-single-machine_bee-1_1  ... \n",
      "Stopping swarm-single-machine_clef-1_1 ... \n",
      "\u001b[1Bping swarm-single-machine_clef-1_1 ... \u001b[32mdone\u001b[0m\u001b[1A\u001b[2KRemoving swarm-single-machine_bee-1_1  ... \n",
      "Removing swarm-single-machine_clef-1_1 ... \n",
      "\u001b[1BRemoving network swarm-single-machine_defaultone\u001b[0m\n"
     ]
    },
    {
     "name": "stdout",
     "output_type": "stream",
     "text": [
      "==== 12/23 : 152.32.215.147 ====\n",
      "swarm-12\n"
     ]
    },
    {
     "name": "stderr",
     "output_type": "stream",
     "text": [
      "Stopping swarm-single-machine_bee-1_1  ... \n",
      "Stopping swarm-single-machine_clef-1_1 ... \n",
      "\u001b[1Bping swarm-single-machine_clef-1_1 ... \u001b[32mdone\u001b[0m\u001b[1A\u001b[2KRemoving swarm-single-machine_bee-1_1  ... \n",
      "Removing swarm-single-machine_clef-1_1 ... \n",
      "\u001b[2BRemoving network swarm-single-machine_defaultone\u001b[0m\u001b[2A\u001b[2K\n"
     ]
    },
    {
     "name": "stdout",
     "output_type": "stream",
     "text": [
      "==== 13/23 : 152.32.251.236 ====\n",
      "swarm-13\n"
     ]
    },
    {
     "name": "stderr",
     "output_type": "stream",
     "text": [
      "Stopping swarm-single-machine_bee-1_1  ... \n",
      "Stopping swarm-single-machine_clef-1_1 ... \n",
      "\u001b[1Bping swarm-single-machine_clef-1_1 ... \u001b[32mdone\u001b[0m\u001b[1A\u001b[2KRemoving swarm-single-machine_bee-1_1  ... \n",
      "Removing swarm-single-machine_clef-1_1 ... \n",
      "\u001b[2BRemoving network swarm-single-machine_defaultone\u001b[0m\u001b[2A\u001b[2K\n"
     ]
    },
    {
     "name": "stdout",
     "output_type": "stream",
     "text": [
      "==== 14/23 : 152.32.190.173 ====\n",
      "UHost14\n"
     ]
    },
    {
     "name": "stderr",
     "output_type": "stream",
     "text": [
      "sudo: unable to resolve host UHost14: Name or service not known\n",
      "Stopping swarm-single-machine_bee-1_1  ... \n",
      "Stopping swarm-single-machine_clef-1_1 ... \n",
      "\u001b[1Bping swarm-single-machine_clef-1_1 ... \u001b[32mdone\u001b[0m\u001b[1A\u001b[2KRemoving swarm-single-machine_bee-1_1  ... \n",
      "Removing swarm-single-machine_clef-1_1 ... \n",
      "\u001b[2BRemoving network swarm-single-machine_defaultone\u001b[0m\u001b[2A\u001b[2K\n"
     ]
    },
    {
     "name": "stdout",
     "output_type": "stream",
     "text": [
      "==== 15/23 : 23.91.101.163 ====\n",
      "UHost15\n"
     ]
    },
    {
     "name": "stderr",
     "output_type": "stream",
     "text": [
      "sudo: unable to resolve host UHost15: Name or service not known\n",
      "Stopping swarm-single-machine_bee-1_1  ... \n",
      "Stopping swarm-single-machine_clef-1_1 ... \n",
      "\u001b[1Bping swarm-single-machine_clef-1_1 ... \u001b[32mdone\u001b[0m\u001b[1A\u001b[2KRemoving swarm-single-machine_bee-1_1  ... \n",
      "Removing swarm-single-machine_clef-1_1 ... \n",
      "\u001b[1BRemoving network swarm-single-machine_defaultone\u001b[0m\u001b[1A\u001b[2K\n"
     ]
    },
    {
     "name": "stdout",
     "output_type": "stream",
     "text": [
      "==== 16/23 : 118.193.39.223 ====\n",
      "UHost16\n"
     ]
    },
    {
     "name": "stderr",
     "output_type": "stream",
     "text": [
      "sudo: unable to resolve host UHost16: Name or service not known\n",
      "Stopping swarm-single-machine_bee-1_1  ... \n",
      "Stopping swarm-single-machine_clef-1_1 ... \n",
      "\u001b[1Bping swarm-single-machine_clef-1_1 ... \u001b[32mdone\u001b[0m\u001b[1A\u001b[2KRemoving swarm-single-machine_bee-1_1  ... \n",
      "Removing swarm-single-machine_clef-1_1 ... \n",
      "\u001b[2BRemoving network swarm-single-machine_defaultone\u001b[0m\u001b[2A\u001b[2K\n"
     ]
    },
    {
     "name": "stdout",
     "output_type": "stream",
     "text": [
      "==== 17/23 : 165.154.3.36 ====\n",
      "UHost17\n"
     ]
    },
    {
     "name": "stderr",
     "output_type": "stream",
     "text": [
      "sudo: unable to resolve host UHost17: Name or service not known\n",
      "Stopping swarm-single-machine_bee-1_1  ... \n",
      "Stopping swarm-single-machine_clef-1_1 ... \n",
      "\u001b[1Bping swarm-single-machine_clef-1_1 ... \u001b[32mdone\u001b[0m\u001b[1A\u001b[2KRemoving swarm-single-machine_bee-1_1  ... \n",
      "Removing swarm-single-machine_clef-1_1 ... \n",
      "\u001b[2Bving swarm-single-machine_bee-1_1  ... \u001b[32mdone\u001b[0m\u001b[2A\u001b[2KRemoving network swarm-single-machine_default\n"
     ]
    },
    {
     "name": "stdout",
     "output_type": "stream",
     "text": [
      "==== 18/23 : 45.249.247.180 ====\n",
      "UHost18\n"
     ]
    },
    {
     "name": "stderr",
     "output_type": "stream",
     "text": [
      "sudo: unable to resolve host UHost18: Name or service not known\n",
      "Stopping swarm-single-machine_bee-1_1  ... \n",
      "Stopping swarm-single-machine_clef-1_1 ... \n",
      "\u001b[1Bping swarm-single-machine_clef-1_1 ... \u001b[32mdone\u001b[0m\u001b[1A\u001b[2KRemoving swarm-single-machine_bee-1_1  ... \n",
      "Removing swarm-single-machine_clef-1_1 ... \n",
      "\u001b[2Bving swarm-single-machine_bee-1_1  ... \u001b[32mdone\u001b[0m\u001b[2A\u001b[2KRemoving network swarm-single-machine_default\n"
     ]
    },
    {
     "name": "stdout",
     "output_type": "stream",
     "text": [
      "==== 19/23 : 152.32.210.173 ====\n",
      "UHost19\n"
     ]
    },
    {
     "name": "stderr",
     "output_type": "stream",
     "text": [
      "sudo: unable to resolve host UHost19: Name or service not known\n",
      "Stopping swarm-single-machine_bee-1_1  ... \n",
      "Stopping swarm-single-machine_clef-1_1 ... \n",
      "\u001b[1Bping swarm-single-machine_clef-1_1 ... \u001b[32mdone\u001b[0m\u001b[1A\u001b[2KRemoving swarm-single-machine_bee-1_1  ... \n",
      "Removing swarm-single-machine_clef-1_1 ... \n",
      "\u001b[2Bving swarm-single-machine_bee-1_1  ... \u001b[32mdone\u001b[0m\u001b[2A\u001b[2KRemoving network swarm-single-machine_default\n"
     ]
    },
    {
     "name": "stdout",
     "output_type": "stream",
     "text": [
      "==== 20/23 : 23.91.100.167 ====\n",
      "UHost20\n"
     ]
    },
    {
     "name": "stderr",
     "output_type": "stream",
     "text": [
      "sudo: unable to resolve host UHost20: Name or service not known\n",
      "Stopping swarm-single-machine_bee-1_1  ... \n",
      "Stopping swarm-single-machine_clef-1_1 ... \n",
      "\u001b[1Bping swarm-single-machine_clef-1_1 ... \u001b[32mdone\u001b[0m\u001b[1A\u001b[2KRemoving swarm-single-machine_bee-1_1  ... \n",
      "Removing swarm-single-machine_clef-1_1 ... \n",
      "\u001b[2Bving swarm-single-machine_bee-1_1  ... \u001b[32mdone\u001b[0m\u001b[2A\u001b[2KRemoving network swarm-single-machine_default\n"
     ]
    },
    {
     "name": "stdout",
     "output_type": "stream",
     "text": [
      "==== 21/23 : 45.249.247.46 ====\n",
      "UHost21\n"
     ]
    },
    {
     "name": "stderr",
     "output_type": "stream",
     "text": [
      "sudo: unable to resolve host UHost21: Name or service not known\n",
      "Stopping swarm-single-machine_bee-1_1  ... \n",
      "Stopping swarm-single-machine_clef-1_1 ... \n",
      "\u001b[1Bping swarm-single-machine_clef-1_1 ... \u001b[32mdone\u001b[0m\u001b[1A\u001b[2KRemoving swarm-single-machine_bee-1_1  ... \n",
      "Removing swarm-single-machine_clef-1_1 ... \n",
      "\u001b[2BRemoving network swarm-single-machine_defaultone\u001b[0m\u001b[2A\u001b[2K\n"
     ]
    },
    {
     "name": "stdout",
     "output_type": "stream",
     "text": [
      "==== 22/23 : 128.1.138.92 ====\n",
      "UHost22\n"
     ]
    },
    {
     "name": "stderr",
     "output_type": "stream",
     "text": [
      "Stopping swarm-single-machine_bee-1_1  ... \n",
      "Stopping swarm-single-machine_clef-1_1 ... \n",
      "\u001b[1Bping swarm-single-machine_clef-1_1 ... \u001b[32mdone\u001b[0m\u001b[1A\u001b[2KRemoving swarm-single-machine_bee-1_1  ... \n",
      "Removing swarm-single-machine_clef-1_1 ... \n",
      "\u001b[2BRemoving network swarm-single-machine_defaultone\u001b[0m\u001b[2A\u001b[2K\n"
     ]
    }
   ],
   "source": [
    "# All down\n",
    "\n",
    "for i, host in enumerate(hosts):\n",
    "    print(f'==== {i:02}/{len(hosts):02} : {host} ====')\n",
    "    conn = Connection(f'ubuntu@{host}')\n",
    "    conn.run('hostname')\n",
    "    conn.run('cd swarm-single-machine && ./down.sh')"
   ]
  },
  {
   "cell_type": "code",
   "execution_count": null,
   "metadata": {},
   "outputs": [],
   "source": [
    "# All up\n",
    "\n",
    "for i, host in enumerate(hosts):\n",
    "    print(f'==== {i:02}/{len(hosts):02} : {host} ====')\n",
    "    conn = Connection(f'ubuntu@{host}')\n",
    "    conn.run('hostname')\n",
    "    conn.run('cd swarm-single-machine && git pull')\n",
    "    conn.run(\"cd swarm-single-machine && ./up.sh\")"
   ]
  },
  {
   "cell_type": "code",
   "execution_count": null,
   "metadata": {
    "scrolled": true
   },
   "outputs": [],
   "source": [
    "# All restart\n",
    "for i, host in enumerate(hosts):\n",
    "    print(f'==== {i:02}/{len(hosts):02} : {host} ====')\n",
    "    with Connection(f'ubuntu@{host}') as conn:\n",
    "        conn.run('hostname')\n",
    "        conn.run('cd swarm-single-machine && ./restart.sh')"
   ]
  },
  {
   "cell_type": "code",
   "execution_count": null,
   "metadata": {},
   "outputs": [],
   "source": [
    "# Rename hostname\n",
    "\n",
    "sudopass = Responder(\n",
    "    pattern=r'Password:',\n",
    "    response='[please change]\\n')\n",
    "\n",
    "for i, host in enumerate(hosts):\n",
    "    print(f'==== {i:02}/{len(hosts):02} : {host} ====')\n",
    "    conn = Connection(f'ubuntu@{host}')\n",
    "    conn.run('hostname')\n",
    "    conn.run(f'hostnamectl set-hostname swarm-{i:02}', pty=True, watchers=[sudopass])\n",
    "    conn.run('hostnamectl')\n",
    "    print()"
   ]
  },
  {
   "cell_type": "code",
   "execution_count": null,
   "metadata": {},
   "outputs": [],
   "source": [
    "# Add self hostname to /etc/hosts\n",
    "# (to solve sudo error)\n",
    "\n",
    "for i, host in enumerate(hosts):\n",
    "    print(f'==== {i:02}/{len(hosts):02} : {host} ====')\n",
    "    conn = Connection(f'ubuntu@{host}')\n",
    "    conn.run('hostname')\n",
    "    conn.run('echo $(hostname -I | cut -d\\  -f1) $(hostname) | sudo tee -a /etc/hosts')\n",
    "    conn.run('cat /etc/hosts')"
   ]
  },
  {
   "cell_type": "code",
   "execution_count": null,
   "metadata": {},
   "outputs": [],
   "source": [
    "# All addresses\n",
    "\n",
    "for i, host in enumerate(hosts):\n",
    "    print(f'==== {i:02}/{len(hosts):02} : {host} ====')\n",
    "    conn = Connection(f'ubuntu@{host}')\n",
    "    conn.run('hostname')\n",
    "    conn.run('cd swarm-single-machine && ./addresses.sh')"
   ]
  },
  {
   "cell_type": "code",
   "execution_count": null,
   "metadata": {},
   "outputs": [],
   "source": [
    "# Print all eth addresses\n",
    "\n",
    "for _, host in enumerate(hosts):\n",
    "    conn = Connection(f'ubuntu@{host}')\n",
    "    result = conn.run('cd swarm-single-machine && ./addresses.sh', hide=True)\n",
    "    payload = json.loads(result.stdout.strip())\n",
    "    print(payload['ethereum'])"
   ]
  },
  {
   "cell_type": "code",
   "execution_count": null,
   "metadata": {
    "scrolled": false
   },
   "outputs": [],
   "source": [
    "# Try to init all\n",
    "\n",
    "for i, host in enumerate(hosts):\n",
    "    print(f'==== {i:02}/{len(hosts):02} : {host} ====')\n",
    "    conn = Connection(f'ubuntu@{host}')\n",
    "    conn.run('hostname')\n",
    "    try:\n",
    "        conn.run('git clone https://github.com/renning22/swarm-single-machine.git && cd swarm-single-machine && ./init.sh')\n",
    "    except UnexpectedExit:\n",
    "        print('Skip...')"
   ]
  },
  {
   "cell_type": "code",
   "execution_count": null,
   "metadata": {
    "scrolled": true
   },
   "outputs": [],
   "source": [
    "# Restart unhealthy\n",
    "\n",
    "for i, host in enumerate(hosts):\n",
    "    print(f'==== {i:02}/{len(hosts):02} : {host} ====')\n",
    "    conn = Connection(f'ubuntu@{host}')\n",
    "    conn.run('hostname')\n",
    "    result = conn.run(\"curl -s http://localhost:1635/peers | jq '.peers | length'\", hide=True)\n",
    "    print(f'peers = {result.stdout.strip()}')\n",
    "    if not result.stdout.strip():\n",
    "        print('Restarting...')\n",
    "        conn.run('cd swarm-single-machine && ./restart.sh')"
   ]
  },
  {
   "cell_type": "code",
   "execution_count": null,
   "metadata": {},
   "outputs": [],
   "source": [
    "# Add swap-endpoint to hosts table (UCloud-HK-specific)\n",
    "for i, host in enumerate(hosts):\n",
    "    print(f'==== {i:02}/{len(hosts):02} : {host} ====')\n",
    "    conn = Connection(f'ubuntu@{host}')\n",
    "    conn.run('printf \"\\n10.7.17.210 swap-endpoint-01\\n\" | sudo tee -a /etc/hosts')\n",
    "    conn.run('cat /etc/hosts')"
   ]
  },
  {
   "cell_type": "code",
   "execution_count": null,
   "metadata": {},
   "outputs": [],
   "source": [
    "import pandas as pd\n",
    "import urllib3\n",
    "\n",
    "def get(k, port=1635):\n",
    "    http = urllib3.PoolManager()\n",
    "    r = http.request('Get', f'http://localhost:{port}/{k}')\n",
    "    return json.loads(r.data)\n",
    "\n",
    "balances = pd.DataFrame(get('balances')['balances'])\n",
    "balances['balance'].max()"
   ]
  },
  {
   "cell_type": "code",
   "execution_count": null,
   "metadata": {},
   "outputs": [],
   "source": [
    "peer = '03b6a4ee224240c4777966fd4765c3b1dc079fd8086fa8850c05dae0d2dce6cf'\n",
    "get(f'chequebook/cheque/{peer}')"
   ]
  },
  {
   "cell_type": "code",
   "execution_count": null,
   "metadata": {},
   "outputs": [],
   "source": [
    "peer = '24a75108ed7659237b31c4f7066ccf2d2391087550b2e849517e04e63948ba9a'\n",
    "get(f'chequebook/cheque/{peer}')"
   ]
  },
  {
   "cell_type": "code",
   "execution_count": null,
   "metadata": {},
   "outputs": [],
   "source": [
    "peer = '24ac8ae73439aed048472dce577caa561ee54f2637d68a0313ff3441ec78c3b6'\n",
    "get(f'chequebook/cheque/{peer}')"
   ]
  },
  {
   "cell_type": "code",
   "execution_count": 10,
   "metadata": {},
   "outputs": [
    {
     "name": "stdout",
     "output_type": "stream",
     "text": [
      "==== 00/23 : 118.193.45.223 ====\n",
      "swarm-00\n",
      "tar: Removing leading `/' from member names\n",
      "/data/clef/\n",
      "/data/clef/password\n",
      "/data/clef/f6e2ff04b8e62f10fc13/\n",
      "/data/clef/f6e2ff04b8e62f10fc13/credentials.json\n",
      "/data/clef/f6e2ff04b8e62f10fc13/config.json\n",
      "/data/clef/keystore/\n",
      "/data/clef/keystore/UTC--2021-06-03T11-06-15.430703694Z--19517c4542133b455a73368122a7a61ffcb53d33\n",
      "/data/clef/masterseed.json\n",
      "\n",
      "==== 01/23 : 128.1.135.208 ====\n",
      "swarm-01\n",
      "tar: Removing leading `/' from member names\n",
      "/data/clef/\n",
      "/data/clef/keystore/\n",
      "/data/clef/keystore/UTC--2021-06-04T08-52-11.053192811Z--84b134576e7841d3a77fddd629212273a3b2f45c\n",
      "/data/clef/masterseed.json\n",
      "/data/clef/password\n",
      "/data/clef/5195a8bef7a7bd30a528/\n",
      "/data/clef/5195a8bef7a7bd30a528/credentials.json\n",
      "/data/clef/5195a8bef7a7bd30a528/config.json\n",
      "\n",
      "==== 02/23 : 103.14.34.147 ====\n",
      "swarm-02\n",
      "tar: Removing leading `/' from member names\n",
      "/data/clef/\n",
      "/data/clef/keystore/\n",
      "/data/clef/keystore/UTC--2021-06-04T10-00-28.541518957Z--0a579b5e7d221668d48642387be24d0845aed796\n",
      "/data/clef/8831e071b7069568478f/\n",
      "/data/clef/8831e071b7069568478f/config.json\n",
      "/data/clef/8831e071b7069568478f/credentials.json\n",
      "/data/clef/password\n",
      "/data/clef/masterseed.json\n",
      "\n",
      "==== 03/23 : 23.91.97.32 ====\n",
      "swarm-03\n",
      "tar: Removing leading `/' from member names\n",
      "/data/clef/\n",
      "/data/clef/2cb37c81b5d6becf9da1/\n",
      "/data/clef/2cb37c81b5d6becf9da1/config.json\n",
      "/data/clef/2cb37c81b5d6becf9da1/credentials.json\n",
      "/data/clef/masterseed.json\n",
      "/data/clef/keystore/\n",
      "/data/clef/keystore/UTC--2021-06-04T20-53-49.907408181Z--f5afa5cde53355f8744596155668c7649a972407\n",
      "/data/clef/password\n",
      "\n",
      "==== 04/23 : 152.32.210.117 ====\n",
      "swarm-04\n",
      "tar: Removing leading `/' from member names\n",
      "/data/clef/\n",
      "/data/clef/keystore/\n",
      "/data/clef/keystore/UTC--2021-06-04T21-42-21.982959710Z--b03a4dabaa26ec16164aa1aaf25b1144ad500a18\n",
      "/data/clef/93da2983672356239dee/\n",
      "/data/clef/93da2983672356239dee/credentials.json\n",
      "/data/clef/93da2983672356239dee/config.json\n",
      "/data/clef/password\n",
      "/data/clef/masterseed.json\n",
      "\n",
      "==== 05/23 : 23.91.98.101 ====\n",
      "swarm-05\n",
      "tar: Removing leading `/' from member names\n",
      "/data/clef/\n",
      "/data/clef/c2f32a9c74e4633c3c45/\n",
      "/data/clef/c2f32a9c74e4633c3c45/config.json\n",
      "/data/clef/c2f32a9c74e4633c3c45/credentials.json\n",
      "/data/clef/password\n",
      "/data/clef/keystore/\n",
      "/data/clef/keystore/UTC--2021-06-04T21-55-42.423903618Z--fe916470bb6e6d24d97259bcc53ae2e12b66a28b\n",
      "/data/clef/masterseed.json\n",
      "\n",
      "==== 06/23 : 152.32.189.174 ====\n",
      "swarm-06\n",
      "tar: Removing leading `/' from member names\n",
      "/data/clef/\n",
      "/data/clef/masterseed.json\n",
      "/data/clef/54cb1c0b691002a31e51/\n",
      "/data/clef/54cb1c0b691002a31e51/config.json\n",
      "/data/clef/54cb1c0b691002a31e51/credentials.json\n",
      "/data/clef/keystore/\n",
      "/data/clef/keystore/UTC--2021-06-04T21-58-16.249805412Z--1ff293414b41a76dcdbcb7b4d27124aa098e9638\n",
      "/data/clef/password\n",
      "\n",
      "==== 07/23 : 36.255.220.243 ====\n",
      "swarm-07\n",
      "tar: Removing leading `/' from member names\n",
      "/data/clef/\n",
      "/data/clef/password\n",
      "/data/clef/8ec02f949bd50369cae0/\n",
      "/data/clef/8ec02f949bd50369cae0/config.json\n",
      "/data/clef/8ec02f949bd50369cae0/credentials.json\n",
      "/data/clef/masterseed.json\n",
      "/data/clef/keystore/\n",
      "/data/clef/keystore/UTC--2021-06-04T22-01-10.570763610Z--1414ef73da8e3ca2f0306fe4b0f097cbfb57bd59\n",
      "\n",
      "==== 08/23 : 152.32.192.130 ====\n",
      "swarm-08\n",
      "tar: Removing leading `/' from member names\n",
      "/data/clef/\n",
      "/data/clef/password\n",
      "/data/clef/99579619ebadd95d9680/\n",
      "/data/clef/99579619ebadd95d9680/credentials.json\n",
      "/data/clef/99579619ebadd95d9680/config.json\n",
      "/data/clef/keystore/\n",
      "/data/clef/keystore/UTC--2021-06-04T22-03-35.556934742Z--764a518c034f03855b4f97d2c60fbebc940b3a3c\n",
      "/data/clef/masterseed.json\n",
      "\n",
      "==== 09/23 : 101.36.117.63 ====\n",
      "swarm-09\n",
      "tar: Removing leading `/' from member names\n",
      "/data/clef/\n",
      "/data/clef/keystore/\n",
      "/data/clef/keystore/UTC--2021-06-05T14-20-29.024455333Z--d460d4a6364f008502d52bdc9aaea9fde645adfe\n",
      "/data/clef/masterseed.json\n",
      "/data/clef/ea4174fe2a0dbf7e11bb/\n",
      "/data/clef/ea4174fe2a0dbf7e11bb/config.json\n",
      "/data/clef/ea4174fe2a0dbf7e11bb/credentials.json\n",
      "/data/clef/password\n",
      "\n",
      "==== 10/23 : 101.36.120.12 ====\n",
      "swarm-10\n",
      "tar: Removing leading `/' from member names\n",
      "/data/clef/\n",
      "/data/clef/password\n",
      "/data/clef/masterseed.json\n",
      "/data/clef/46893e2e6f69414d8a46/\n",
      "/data/clef/46893e2e6f69414d8a46/config.json\n",
      "/data/clef/46893e2e6f69414d8a46/credentials.json\n",
      "/data/clef/keystore/\n",
      "/data/clef/keystore/UTC--2021-06-05T14-17-32.415158210Z--b25a5af6198c0157a4cc02bba9bb60a1589069e2\n",
      "\n",
      "==== 11/23 : 101.36.122.83 ====\n",
      "swarm-11\n",
      "tar: Removing leading `/' from member names\n",
      "/data/clef/\n",
      "/data/clef/c332c4226ba4f2202058/\n",
      "/data/clef/c332c4226ba4f2202058/credentials.json\n",
      "/data/clef/c332c4226ba4f2202058/config.json\n",
      "/data/clef/masterseed.json\n",
      "/data/clef/password\n",
      "/data/clef/keystore/\n",
      "/data/clef/keystore/UTC--2021-06-05T14-20-58.778659866Z--689e0900271bb7cdd42336a7b522036065269aa5\n",
      "\n",
      "==== 12/23 : 152.32.215.147 ====\n",
      "swarm-12\n",
      "tar: Removing leading `/' from member names\n",
      "/data/clef/\n",
      "/data/clef/password\n",
      "/data/clef/ae96526ea2037dbe5487/\n",
      "/data/clef/ae96526ea2037dbe5487/config.json\n",
      "/data/clef/ae96526ea2037dbe5487/credentials.json\n",
      "/data/clef/masterseed.json\n",
      "/data/clef/keystore/\n",
      "/data/clef/keystore/UTC--2021-06-05T14-21-26.628394910Z--21d6fc3e662186c42aa3b30e1b911057a8639ebe\n",
      "\n",
      "==== 13/23 : 152.32.251.236 ====\n",
      "swarm-13\n",
      "tar: Removing leading `/' from member names\n",
      "/data/clef/\n",
      "/data/clef/keystore/\n",
      "/data/clef/keystore/UTC--2021-06-05T14-21-53.425685548Z--b3c39219a15d468133cb4b01347f0872f017c042\n",
      "/data/clef/f9024d567d209cd56079/\n",
      "/data/clef/f9024d567d209cd56079/credentials.json\n",
      "/data/clef/f9024d567d209cd56079/config.json\n",
      "/data/clef/password\n",
      "/data/clef/masterseed.json\n",
      "\n",
      "==== 14/23 : 152.32.190.173 ====\n",
      "UHost14\n",
      "sudo: unable to resolve host UHost14: Name or service not known\n",
      "tar: Removing leading `/' from member names\n",
      "/data/clef/\n",
      "/data/clef/d97fa41690038ea655d0/\n",
      "/data/clef/d97fa41690038ea655d0/config.json\n",
      "/data/clef/d97fa41690038ea655d0/credentials.json\n",
      "/data/clef/keystore/\n",
      "/data/clef/keystore/UTC--2021-06-07T08-12-13.584622314Z--d9f2b033af099fac5f3931a23b5b33c9705a780e\n",
      "/data/clef/password\n",
      "/data/clef/masterseed.json\n",
      "\n",
      "==== 15/23 : 23.91.101.163 ====\n",
      "UHost15\n",
      "sudo: unable to resolve host UHost15: Name or service not known\n",
      "tar: Removing leading `/' from member names\n",
      "/data/clef/\n",
      "/data/clef/d0644181520cdc76fd0c/\n",
      "/data/clef/d0644181520cdc76fd0c/credentials.json\n",
      "/data/clef/d0644181520cdc76fd0c/config.json\n",
      "/data/clef/password\n",
      "/data/clef/keystore/\n",
      "/data/clef/keystore/UTC--2021-06-07T08-12-41.630892184Z--02fca3269947cd84ae87527cc865706b6d180bb2\n",
      "/data/clef/masterseed.json\n",
      "\n",
      "==== 16/23 : 118.193.39.223 ====\n",
      "UHost16\n",
      "sudo: unable to resolve host UHost16: Name or service not known\n",
      "tar: Removing leading `/' from member names\n",
      "/data/clef/\n",
      "/data/clef/masterseed.json\n",
      "/data/clef/password\n",
      "/data/clef/keystore/\n",
      "/data/clef/keystore/UTC--2021-06-07T08-13-08.999620206Z--79855c3847c93ddcb2cc8d45607662737f6b2708\n",
      "/data/clef/01b77d8feafd4fc841d9/\n",
      "/data/clef/01b77d8feafd4fc841d9/credentials.json\n",
      "/data/clef/01b77d8feafd4fc841d9/config.json\n",
      "\n",
      "==== 17/23 : 165.154.3.36 ====\n",
      "UHost17\n",
      "sudo: unable to resolve host UHost17: Name or service not known\n",
      "tar: Removing leading `/' from member names\n",
      "/data/clef/\n",
      "/data/clef/password\n",
      "/data/clef/e26620f22583399abd5d/\n",
      "/data/clef/e26620f22583399abd5d/config.json\n",
      "/data/clef/e26620f22583399abd5d/credentials.json\n",
      "/data/clef/masterseed.json\n",
      "/data/clef/keystore/\n",
      "/data/clef/keystore/UTC--2021-06-07T08-13-43.017987673Z--04490ee2ddbe105736256580e2a1c8f642e91324\n",
      "\n",
      "==== 18/23 : 45.249.247.180 ====\n",
      "UHost18\n",
      "sudo: unable to resolve host UHost18: Name or service not known\n",
      "tar: Removing leading `/' from member names\n",
      "/data/clef/\n",
      "/data/clef/keystore/\n",
      "/data/clef/keystore/UTC--2021-06-07T08-16-25.272100158Z--f832b747b07d03f660097e75bc41bd6a51e11227\n",
      "/data/clef/46d11bf5cf47bd0ba43a/\n",
      "/data/clef/46d11bf5cf47bd0ba43a/config.json\n",
      "/data/clef/46d11bf5cf47bd0ba43a/credentials.json\n",
      "/data/clef/masterseed.json\n",
      "/data/clef/password\n",
      "\n",
      "==== 19/23 : 152.32.210.173 ====\n",
      "UHost19\n",
      "sudo: unable to resolve host UHost19: Name or service not known\n",
      "tar: Removing leading `/' from member names\n",
      "/data/clef/\n",
      "/data/clef/c98b4f5a7f8eab28fb7d/\n",
      "/data/clef/c98b4f5a7f8eab28fb7d/config.json\n",
      "/data/clef/c98b4f5a7f8eab28fb7d/credentials.json\n",
      "/data/clef/password\n",
      "/data/clef/keystore/\n",
      "/data/clef/keystore/UTC--2021-06-08T06-12-44.119886430Z--675424ebcfad46c1535e76c4bdf7ecf0bc176fd1\n",
      "/data/clef/masterseed.json\n",
      "\n",
      "==== 20/23 : 23.91.100.167 ====\n"
     ]
    },
    {
     "name": "stdout",
     "output_type": "stream",
     "text": [
      "UHost20\n",
      "sudo: unable to resolve host UHost20: Name or service not known\n",
      "tar: Removing leading `/' from member names\n",
      "/data/clef/\n",
      "/data/clef/password\n",
      "/data/clef/masterseed.json\n",
      "/data/clef/keystore/\n",
      "/data/clef/keystore/UTC--2021-06-17T10-09-24.070416230Z--166cbdb8c6f701f4630f7a2467b0b7ab948e7cee\n",
      "/data/clef/4396471082ab981e530d/\n",
      "/data/clef/4396471082ab981e530d/credentials.json\n",
      "/data/clef/4396471082ab981e530d/config.json\n",
      "\n",
      "==== 21/23 : 45.249.247.46 ====\n",
      "UHost21\n",
      "sudo: unable to resolve host UHost21: Name or service not known\n",
      "tar: Removing leading `/' from member names\n",
      "/data/clef/\n",
      "/data/clef/b28342ebdba48b1bdd25/\n",
      "/data/clef/b28342ebdba48b1bdd25/credentials.json\n",
      "/data/clef/b28342ebdba48b1bdd25/config.json\n",
      "/data/clef/password\n",
      "/data/clef/keystore/\n",
      "/data/clef/keystore/UTC--2021-06-17T10-12-57.341746135Z--3ecdfac2778a48094b89ae6d9ec451762682d6ec\n",
      "/data/clef/masterseed.json\n",
      "\n",
      "==== 22/23 : 128.1.138.92 ====\n",
      "UHost22\n",
      "tar: Removing leading `/' from member names\n",
      "/data/clef/\n",
      "/data/clef/masterseed.json\n",
      "/data/clef/3b237983b7bf207f2503/\n",
      "/data/clef/3b237983b7bf207f2503/credentials.json\n",
      "/data/clef/3b237983b7bf207f2503/config.json\n",
      "/data/clef/keystore/\n",
      "/data/clef/keystore/UTC--2021-06-17T10-15-11.643320551Z--d3ef21e1fe5817c12f8d4961a33468bf02c3458a\n",
      "/data/clef/password\n",
      "\n"
     ]
    }
   ],
   "source": [
    "# Zip and backup all clef keys\n",
    "\n",
    "sudopass = Responder(\n",
    "    pattern=r'Password:',\n",
    "    response='chainpion2021\\n')\n",
    "\n",
    "for i, host in enumerate(hosts):\n",
    "    print(f'==== {i:02}/{len(hosts):02} : {host} ====')\n",
    "    conn = Connection(f'ubuntu@{host}')\n",
    "    conn.run('hostname')\n",
    "    conn.run(f'sudo tar -czvf swarm-{i:02}.tar.gz /data/clef/', pty=True, watchers=[sudopass])\n",
    "    print()"
   ]
  }
 ],
 "metadata": {
  "kernelspec": {
   "display_name": "Python 3",
   "language": "python",
   "name": "python3"
  },
  "language_info": {
   "codemirror_mode": {
    "name": "ipython",
    "version": 3
   },
   "file_extension": ".py",
   "mimetype": "text/x-python",
   "name": "python",
   "nbconvert_exporter": "python",
   "pygments_lexer": "ipython3",
   "version": "3.8.10"
  }
 },
 "nbformat": 4,
 "nbformat_minor": 2
}
